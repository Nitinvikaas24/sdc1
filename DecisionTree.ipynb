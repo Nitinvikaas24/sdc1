{
 "cells": [
  {
   "cell_type": "code",
   "execution_count": null,
   "id": "97789b8f",
   "metadata": {
    "vscode": {
     "languageId": "plaintext"
    }
   },
   "outputs": [],
   "source": [
    "import pandas as pd\n",
    "import seaborn as sns\n",
    "from sklearn.model_selection import train_test_split\n",
    "from sklearn.tree import DecisionTreeClassifier\n",
    "from sklearn import metrics\n",
    "from sklearn import tree\n",
    "import matplotlib.pyplot as plt\n",
    "\n",
    "# Step 1: Load Titanic dataset from seaborn\n",
    "df = sns.load_dataset('titanic')\n",
    "\n",
    "# Step 2: Preprocessing\n",
    "# Drop rows with missing values in selected columns\n",
    "df = df[['pclass', 'sex', 'age', 'fare', 'survived']].dropna()\n",
    "\n",
    "# Convert categorical to numerical\n",
    "df['sex'] = df['sex'].map({'male': 0, 'female': 1})\n",
    "\n",
    "# Step 3: Features and target\n",
    "X = df.drop('survived', axis=1)\n",
    "y = df['survived']\n",
    "\n",
    "# Step 4: Train-test split\n",
    "X_train, X_test, y_train, y_test = train_test_split(X, y, test_size=0.3, random_state=42)\n",
    "\n",
    "# Step 5: Train Decision Tree\n",
    "clf = DecisionTreeClassifier(criterion='entropy', max_depth=4)\n",
    "clf.fit(X_train, y_train)\n",
    "\n",
    "# Step 6: Predict and evaluate\n",
    "y_pred = clf.predict(X_test)\n",
    "print(\"Accuracy:\", metrics.accuracy_score(y_test, y_pred))\n",
    "\n",
    "# Step 7: Visualize the decision tree\n",
    "plt.figure(figsize=(18, 10))\n",
    "tree.plot_tree(clf, feature_names=X.columns, class_names=[\"Died\", \"Survived\"], filled=True)\n",
    "plt.title(\"Titanic Survival Prediction Tree\")\n",
    "plt.show()"
   ]
  }
 ],
 "metadata": {
  "language_info": {
   "name": "python"
  }
 },
 "nbformat": 4,
 "nbformat_minor": 5
}
