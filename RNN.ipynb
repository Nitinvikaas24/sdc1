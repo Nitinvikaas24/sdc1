{
 "cells": [
  {
   "cell_type": "code",
   "execution_count": null,
   "id": "91a28f24",
   "metadata": {
    "vscode": {
     "languageId": "plaintext"
    }
   },
   "outputs": [],
   "source": [
    "#movie review\n",
    "\n",
    "import tensorflow as tf\n",
    "from tensorflow.keras import layers, models\n",
    "from tensorflow.keras.datasets import imdb\n",
    "from tensorflow.keras.preprocessing.sequence import pad_sequences\n",
    "\n",
    "# Load IMDb dataset\n",
    "max_features = 10000  # Number of words to consider as features\n",
    "max_len = 200  # Max length of each review\n",
    "(train_data, train_labels), (test_data, test_labels) = imdb.load_data(num_words=max_features)\n",
    "\n",
    "# Pad the sequences to ensure uniform input size\n",
    "train_data = pad_sequences(train_data, maxlen=max_len)\n",
    "test_data = pad_sequences(test_data, maxlen=max_len)\n",
    "\n",
    "# Build the RNN model\n",
    "model = models.Sequential([\n",
    "    layers.Embedding(max_features, 128, input_length=max_len),\n",
    "    layers.LSTM(128, dropout=0.2, recurrent_dropout=0.2),  # LSTM layer for sequence processing\n",
    "    layers.Dense(1, activation='sigmoid')  # Binary classification (positive or negative sentiment)\n",
    "])\n",
    "\n",
    "# Compile the model\n",
    "model.compile(optimizer='adam',\n",
    "              loss='binary_crossentropy',\n",
    "              metrics=['accuracy'])\n",
    "\n",
    "# Train the model\n",
    "model.fit(train_data, train_labels, epochs=5, batch_size=64, validation_data=(test_data, test_labels))\n",
    "\n",
    "# Evaluate the model on the test set\n",
    "test_loss, test_acc = model.evaluate(test_data, test_labels)\n",
    "print(f\"Test accuracy: {test_acc}\")"
   ]
  }
 ],
 "metadata": {
  "language_info": {
   "name": "python"
  }
 },
 "nbformat": 4,
 "nbformat_minor": 5
}
